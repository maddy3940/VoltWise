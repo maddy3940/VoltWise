{
 "cells": [
  {
   "cell_type": "code",
   "execution_count": 1,
   "metadata": {},
   "outputs": [],
   "source": [
    "import pandas as pd\n",
    "import os"
   ]
  },
  {
   "cell_type": "code",
   "execution_count": 26,
   "metadata": {},
   "outputs": [],
   "source": [
    "# loop through raw_data folder, read one file at a time, aggregate by day and save to processed_data folder\n",
    "\n",
    "input_folder = '/workspace/VoltWise/Data_Ingestion/raw_data'\n",
    "output_folder = '/workspace/VoltWise/Data_Ingestion/daily_data'\n",
    "\n",
    "# Create the output folder if it doesn't exist\n",
    "os.makedirs(output_folder, exist_ok=True)\n",
    "\n",
    "# Get a list of input files in the input folder\n",
    "input_files = os.listdir(input_folder)"
   ]
  },
  {
   "cell_type": "code",
   "execution_count": 30,
   "metadata": {},
   "outputs": [
    {
     "name": "stdout",
     "output_type": "stream",
     "text": [
      "Processed file: CAL--2015-07-01--2023-03-15.csv. Output saved to: /workspace/VoltWise/Data_Ingestion/processed_data/CAL.csv\n",
      "Processed file: CAR--2015-07-01--2023-03-15.csv. Output saved to: /workspace/VoltWise/Data_Ingestion/processed_data/CAR.csv\n",
      "Processed file: CENT--2015-07-01--2023-03-15.csv. Output saved to: /workspace/VoltWise/Data_Ingestion/processed_data/CENT.csv\n",
      "Processed file: FLA--2015-07-01--2023-03-15.csv. Output saved to: /workspace/VoltWise/Data_Ingestion/processed_data/FLA.csv\n",
      "Processed file: MIDW--2015-07-01--2023-03-15.csv. Output saved to: /workspace/VoltWise/Data_Ingestion/processed_data/MIDW.csv\n",
      "Processed file: MIDA--2015-07-01--2023-03-15.csv. Output saved to: /workspace/VoltWise/Data_Ingestion/processed_data/MIDA.csv\n",
      "Processed file: NE--2015-07-01--2023-03-15.csv. Output saved to: /workspace/VoltWise/Data_Ingestion/processed_data/NE.csv\n",
      "Processed file: NY--2015-07-01--2023-03-15.csv. Output saved to: /workspace/VoltWise/Data_Ingestion/processed_data/NY.csv\n",
      "Processed file: SE--2015-07-01--2023-03-15.csv. Output saved to: /workspace/VoltWise/Data_Ingestion/processed_data/SE.csv\n",
      "Processed file: SW--2015-07-01--2023-03-15.csv. Output saved to: /workspace/VoltWise/Data_Ingestion/processed_data/SW.csv\n",
      "Processed file: TEX--2015-07-01--2023-03-15.csv. Output saved to: /workspace/VoltWise/Data_Ingestion/processed_data/TEX.csv\n"
     ]
    }
   ],
   "source": [
    "for file in input_files:\n",
    "    input_path = os.path.join(input_folder, file)\n",
    "    output_file = file.replace('.csv', '_processed.csv')\n",
    "    output_file = output_file.split('--')[0]+'.csv'\n",
    "    output_path = os.path.join(output_folder, output_file)\n",
    "\n",
    "\n",
    "    # Read the input CSV file\n",
    "    df = pd.read_csv(input_path)\n",
    "   \n",
    "\n",
    "    df.drop(columns=['region'],inplace=True)\n",
    "    # Convert 'date' and 'hour' columns to datetime format\n",
    "    df['datetime'] = pd.to_datetime(df['Date'] + 'H' + df['Hour'].astype(str),format='%Y-%m-%dH%H')\n",
    "    df.drop(columns=['Date','Hour'],inplace=True)\n",
    "\n",
    "\n",
    "    # # Group by date and calculate the cumulative sum of 'value'\n",
    "    daily_df = df.groupby(df['datetime'].dt.date)[['Demand', 'Net generation']].sum().reset_index()\n",
    "\n",
    "    # # Rename the columns to match the desired schema\n",
    "    daily_df.columns = ['Date', 'Demand', 'Net_generation']\n",
    "\n",
    "    # # Save the processed data to the output CSV file\n",
    "    daily_df.to_csv(output_path, index=False)\n",
    "\n",
    "    print(f\"Processed file: {file}. Output saved to: {output_path}\")\n"
   ]
  }
 ],
 "metadata": {
  "kernelspec": {
   "display_name": ".venv",
   "language": "python",
   "name": "python3"
  },
  "language_info": {
   "codemirror_mode": {
    "name": "ipython",
    "version": 3
   },
   "file_extension": ".py",
   "mimetype": "text/x-python",
   "name": "python",
   "nbconvert_exporter": "python",
   "pygments_lexer": "ipython3",
   "version": "3.10.6"
  },
  "orig_nbformat": 4
 },
 "nbformat": 4,
 "nbformat_minor": 2
}
